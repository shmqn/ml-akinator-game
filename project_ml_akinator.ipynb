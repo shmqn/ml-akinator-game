{
 "cells": [
  {
   "cell_type": "code",
   "execution_count": 1,
   "id": "2940e076-e931-4300-91f1-583202d61649",
   "metadata": {},
   "outputs": [
    {
     "name": "stdout",
     "output_type": "stream",
     "text": [
      "Does your character have a short haircut?? (Yes/No): \n"
     ]
    },
    {
     "name": "stdin",
     "output_type": "stream",
     "text": [
      " no\n"
     ]
    },
    {
     "name": "stdout",
     "output_type": "stream",
     "text": [
      "Is your character male?? (Yes/No): \n"
     ]
    },
    {
     "name": "stdin",
     "output_type": "stream",
     "text": [
      " no\n"
     ]
    },
    {
     "name": "stdout",
     "output_type": "stream",
     "text": [
      "Does your character manipulator and only think about his own benefit?? (Yes/No): \n"
     ]
    },
    {
     "name": "stdin",
     "output_type": "stream",
     "text": [
      " no\n"
     ]
    },
    {
     "name": "stdout",
     "output_type": "stream",
     "text": [
      "Is your character the main character?? (Yes/No): \n"
     ]
    },
    {
     "name": "stdin",
     "output_type": "stream",
     "text": [
      " yes\n"
     ]
    },
    {
     "name": "stdout",
     "output_type": "stream",
     "text": [
      "Is your character a high school student?? (Yes/No): \n"
     ]
    },
    {
     "name": "stdin",
     "output_type": "stream",
     "text": [
      " yes\n"
     ]
    },
    {
     "name": "stdout",
     "output_type": "stream",
     "text": [
      "Is your character Akane Heiya? (Yes/No): \n"
     ]
    },
    {
     "name": "stdin",
     "output_type": "stream",
     "text": [
      " yes\n"
     ]
    },
    {
     "name": "stdout",
     "output_type": "stream",
     "text": [
      "I guessed it! Your character is Akane Heiya.\n",
      "Game over. Let's play again sometime!\n"
     ]
    }
   ],
   "source": [
    "import pandas as pd\n",
    "\n",
    "df = pd.read_csv('AIB_akinator.csv')\n",
    "df.set_index('Characters', inplace=True)\n",
    "\n",
    "def filter_characters(df, feature, answer):\n",
    "    if answer.lower() == \"yes\":\n",
    "        return df[df[feature] == 1]\n",
    "    elif answer.lower() == \"no\":\n",
    "        return df[df[feature] == 0]\n",
    "    return df\n",
    "\n",
    "def select_next_question(df):\n",
    "    best_feature = None\n",
    "    best_split = float('inf')\n",
    "\n",
    "    for feature in df.columns:\n",
    "        yes_group = df[df[feature] == 1]\n",
    "        no_group = df[df[feature] == 0]\n",
    "\n",
    "        split_diff = abs(len(yes_group) - len(no_group))\n",
    "        if split_diff < best_split:\n",
    "            best_split = split_diff\n",
    "            best_feature = feature\n",
    "\n",
    "    return best_feature\n",
    "\n",
    "while True:\n",
    "    if len(df) == 1:\n",
    "        character_name = df.index[0]\n",
    "        print(f\"Is your character {character_name}? (Yes/No): \")\n",
    "        final_answer = input()\n",
    "        if final_answer.lower() == 'yes':\n",
    "            print(f\"I guessed it! Your character is {character_name}.\")\n",
    "            break\n",
    "        else:\n",
    "            df = df[df.index != character_name]\n",
    "            continue\n",
    "\n",
    "    feature = select_next_question(df)\n",
    "    if not feature:\n",
    "        print(\"I'm not sure about your character. Let's try a different one.\")\n",
    "        break\n",
    "\n",
    "    print(f\"{feature}? (Yes/No): \")\n",
    "    answer = input()\n",
    "    if answer.lower() == 'quit':\n",
    "        exit()\n",
    "    if answer.lower() not in ['yes', 'no']:\n",
    "        print(\"Please enter Yes or No.\")\n",
    "        continue\n",
    "\n",
    "    df = filter_characters(df, feature, answer)\n",
    "    df.drop(columns=[feature], inplace=True)\n",
    "\n",
    "print(\"Game over. Let's play again sometime!\")"
   ]
  },
  {
   "cell_type": "code",
   "execution_count": null,
   "id": "53f16cea-7a5c-4011-9a3f-c25439417fc1",
   "metadata": {},
   "outputs": [],
   "source": []
  }
 ],
 "metadata": {
  "kernelspec": {
   "display_name": "Python 3 (ipykernel)",
   "language": "python",
   "name": "python3"
  },
  "language_info": {
   "codemirror_mode": {
    "name": "ipython",
    "version": 3
   },
   "file_extension": ".py",
   "mimetype": "text/x-python",
   "name": "python",
   "nbconvert_exporter": "python",
   "pygments_lexer": "ipython3",
   "version": "3.11.5"
  }
 },
 "nbformat": 4,
 "nbformat_minor": 5
}
